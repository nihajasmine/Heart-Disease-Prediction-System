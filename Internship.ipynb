{
 "cells": [
  {
   "cell_type": "code",
   "execution_count": 1,
   "id": "eda539e4-c2d4-4ec5-beba-65c3f99fcfbe",
   "metadata": {},
   "outputs": [],
   "source": [
    "import pandas as pd"
   ]
  },
  {
   "cell_type": "code",
   "execution_count": 2,
   "id": "19c86ee5-e586-4ab5-81aa-3656397993a8",
   "metadata": {},
   "outputs": [],
   "source": [
    "df=pd.read_csv(r\"loan_approval_dataset.csv\")"
   ]
  },
  {
   "cell_type": "code",
   "execution_count": 3,
   "id": "19afb0af-db27-49ff-9ce8-d67e26aae6b3",
   "metadata": {},
   "outputs": [
    {
     "data": {
      "text/html": [
       "<div>\n",
       "<style scoped>\n",
       "    .dataframe tbody tr th:only-of-type {\n",
       "        vertical-align: middle;\n",
       "    }\n",
       "\n",
       "    .dataframe tbody tr th {\n",
       "        vertical-align: top;\n",
       "    }\n",
       "\n",
       "    .dataframe thead th {\n",
       "        text-align: right;\n",
       "    }\n",
       "</style>\n",
       "<table border=\"1\" class=\"dataframe\">\n",
       "  <thead>\n",
       "    <tr style=\"text-align: right;\">\n",
       "      <th></th>\n",
       "      <th>loan_id</th>\n",
       "      <th>no_of_dependents</th>\n",
       "      <th>education</th>\n",
       "      <th>self_employed</th>\n",
       "      <th>income_annum</th>\n",
       "      <th>loan_amount</th>\n",
       "      <th>loan_term</th>\n",
       "      <th>cibil_score</th>\n",
       "      <th>residential_assets_value</th>\n",
       "      <th>commercial_assets_value</th>\n",
       "      <th>luxury_assets_value</th>\n",
       "      <th>bank_asset_value</th>\n",
       "      <th>loan_status</th>\n",
       "    </tr>\n",
       "  </thead>\n",
       "  <tbody>\n",
       "    <tr>\n",
       "      <th>0</th>\n",
       "      <td>1</td>\n",
       "      <td>2</td>\n",
       "      <td>Graduate</td>\n",
       "      <td>No</td>\n",
       "      <td>9600000</td>\n",
       "      <td>29900000</td>\n",
       "      <td>12</td>\n",
       "      <td>778</td>\n",
       "      <td>2400000</td>\n",
       "      <td>17600000</td>\n",
       "      <td>22700000</td>\n",
       "      <td>8000000</td>\n",
       "      <td>Approved</td>\n",
       "    </tr>\n",
       "    <tr>\n",
       "      <th>1</th>\n",
       "      <td>2</td>\n",
       "      <td>0</td>\n",
       "      <td>Not Graduate</td>\n",
       "      <td>Yes</td>\n",
       "      <td>4100000</td>\n",
       "      <td>12200000</td>\n",
       "      <td>8</td>\n",
       "      <td>417</td>\n",
       "      <td>2700000</td>\n",
       "      <td>2200000</td>\n",
       "      <td>8800000</td>\n",
       "      <td>3300000</td>\n",
       "      <td>Rejected</td>\n",
       "    </tr>\n",
       "    <tr>\n",
       "      <th>2</th>\n",
       "      <td>3</td>\n",
       "      <td>3</td>\n",
       "      <td>Graduate</td>\n",
       "      <td>No</td>\n",
       "      <td>9100000</td>\n",
       "      <td>29700000</td>\n",
       "      <td>20</td>\n",
       "      <td>506</td>\n",
       "      <td>7100000</td>\n",
       "      <td>4500000</td>\n",
       "      <td>33300000</td>\n",
       "      <td>12800000</td>\n",
       "      <td>Rejected</td>\n",
       "    </tr>\n",
       "    <tr>\n",
       "      <th>3</th>\n",
       "      <td>4</td>\n",
       "      <td>3</td>\n",
       "      <td>Graduate</td>\n",
       "      <td>No</td>\n",
       "      <td>8200000</td>\n",
       "      <td>30700000</td>\n",
       "      <td>8</td>\n",
       "      <td>467</td>\n",
       "      <td>18200000</td>\n",
       "      <td>3300000</td>\n",
       "      <td>23300000</td>\n",
       "      <td>7900000</td>\n",
       "      <td>Rejected</td>\n",
       "    </tr>\n",
       "    <tr>\n",
       "      <th>4</th>\n",
       "      <td>5</td>\n",
       "      <td>5</td>\n",
       "      <td>Not Graduate</td>\n",
       "      <td>Yes</td>\n",
       "      <td>9800000</td>\n",
       "      <td>24200000</td>\n",
       "      <td>20</td>\n",
       "      <td>382</td>\n",
       "      <td>12400000</td>\n",
       "      <td>8200000</td>\n",
       "      <td>29400000</td>\n",
       "      <td>5000000</td>\n",
       "      <td>Rejected</td>\n",
       "    </tr>\n",
       "  </tbody>\n",
       "</table>\n",
       "</div>"
      ],
      "text/plain": [
       "   loan_id   no_of_dependents      education  self_employed   income_annum  \\\n",
       "0        1                  2       Graduate             No        9600000   \n",
       "1        2                  0   Not Graduate            Yes        4100000   \n",
       "2        3                  3       Graduate             No        9100000   \n",
       "3        4                  3       Graduate             No        8200000   \n",
       "4        5                  5   Not Graduate            Yes        9800000   \n",
       "\n",
       "    loan_amount   loan_term   cibil_score   residential_assets_value  \\\n",
       "0      29900000          12           778                    2400000   \n",
       "1      12200000           8           417                    2700000   \n",
       "2      29700000          20           506                    7100000   \n",
       "3      30700000           8           467                   18200000   \n",
       "4      24200000          20           382                   12400000   \n",
       "\n",
       "    commercial_assets_value   luxury_assets_value   bank_asset_value  \\\n",
       "0                  17600000              22700000            8000000   \n",
       "1                   2200000               8800000            3300000   \n",
       "2                   4500000              33300000           12800000   \n",
       "3                   3300000              23300000            7900000   \n",
       "4                   8200000              29400000            5000000   \n",
       "\n",
       "   loan_status  \n",
       "0     Approved  \n",
       "1     Rejected  \n",
       "2     Rejected  \n",
       "3     Rejected  \n",
       "4     Rejected  "
      ]
     },
     "execution_count": 3,
     "metadata": {},
     "output_type": "execute_result"
    }
   ],
   "source": [
    "df.head()"
   ]
  },
  {
   "cell_type": "code",
   "execution_count": 4,
   "id": "fe67b56e-5bbc-47ba-a217-78384835811e",
   "metadata": {},
   "outputs": [
    {
     "data": {
      "text/plain": [
       "loan_id                      0\n",
       " no_of_dependents            0\n",
       " education                   0\n",
       " self_employed               0\n",
       " income_annum                0\n",
       " loan_amount                 0\n",
       " loan_term                   0\n",
       " cibil_score                 0\n",
       " residential_assets_value    0\n",
       " commercial_assets_value     0\n",
       " luxury_assets_value         0\n",
       " bank_asset_value            0\n",
       " loan_status                 0\n",
       "dtype: int64"
      ]
     },
     "execution_count": 4,
     "metadata": {},
     "output_type": "execute_result"
    }
   ],
   "source": [
    "df.isnull().sum()"
   ]
  },
  {
   "cell_type": "code",
   "execution_count": 5,
   "id": "d915d1c4-d9bd-40f0-b621-319ebd51d9a6",
   "metadata": {},
   "outputs": [],
   "source": [
    "df.columns = df.columns.str.strip()"
   ]
  },
  {
   "cell_type": "code",
   "execution_count": 6,
   "id": "c99beeb1-8d84-4806-a0d6-00388c91feb9",
   "metadata": {},
   "outputs": [
    {
     "data": {
      "text/plain": [
       "['loan_id',\n",
       " 'no_of_dependents',\n",
       " 'education',\n",
       " 'self_employed',\n",
       " 'income_annum',\n",
       " 'loan_amount',\n",
       " 'loan_term',\n",
       " 'cibil_score',\n",
       " 'residential_assets_value',\n",
       " 'commercial_assets_value',\n",
       " 'luxury_assets_value',\n",
       " 'bank_asset_value',\n",
       " 'loan_status']"
      ]
     },
     "execution_count": 6,
     "metadata": {},
     "output_type": "execute_result"
    }
   ],
   "source": [
    "columns = list(df.columns)\n",
    "columns"
   ]
  },
  {
   "cell_type": "code",
   "execution_count": 7,
   "id": "c75ccc7f-5847-420f-91d3-57a400576359",
   "metadata": {},
   "outputs": [
    {
     "name": "stdout",
     "output_type": "stream",
     "text": [
      "Index(['no_of_dependents', 'education', 'self_employed', 'income_annum',\n",
      "       'loan_amount', 'loan_term', 'cibil_score', 'residential_assets_value',\n",
      "       'commercial_assets_value', 'luxury_assets_value', 'bank_asset_value'],\n",
      "      dtype='object')\n"
     ]
    }
   ],
   "source": [
    "x=df[columns[1:12]]\n",
    "print(x.columns)"
   ]
  },
  {
   "cell_type": "code",
   "execution_count": 8,
   "id": "6892d4bf-c839-46b6-8b2b-540264671ac2",
   "metadata": {},
   "outputs": [
    {
     "name": "stdout",
     "output_type": "stream",
     "text": [
      "int64\n",
      "object\n",
      "object\n",
      "int64\n",
      "int64\n",
      "int64\n",
      "int64\n",
      "int64\n",
      "int64\n",
      "int64\n",
      "int64\n",
      "Done!!\n"
     ]
    }
   ],
   "source": [
    "for i in columns[1:12]:\n",
    "    print(x[i].dtype)\n",
    "print(\"Done!!\")"
   ]
  },
  {
   "cell_type": "code",
   "execution_count": 9,
   "id": "30c9fc94-1f1a-49fb-bf6b-1d656ace78b5",
   "metadata": {},
   "outputs": [
    {
     "name": "stdout",
     "output_type": "stream",
     "text": [
      "education\n",
      "[' Graduate' ' Not Graduate']\n",
      "self_employed\n",
      "[' No' ' Yes']\n"
     ]
    }
   ],
   "source": [
    "print(columns[2])\n",
    "print(x[columns[2]].unique())\n",
    "print(columns[3])\n",
    "print(x[columns[3]].unique())"
   ]
  },
  {
   "cell_type": "code",
   "execution_count": 10,
   "id": "a32f6b32-09aa-4cee-ac0d-6ddc658d2e6d",
   "metadata": {},
   "outputs": [
    {
     "name": "stdout",
     "output_type": "stream",
     "text": [
      "Index(['loan_status'], dtype='object')\n"
     ]
    }
   ],
   "source": [
    "y=df[columns[12::]]\n",
    "print(y.columns)"
   ]
  },
  {
   "cell_type": "code",
   "execution_count": 11,
   "id": "73f864f4-a02a-4125-95b9-d9b916974344",
   "metadata": {},
   "outputs": [
    {
     "name": "stdout",
     "output_type": "stream",
     "text": [
      "[' Approved' ' Rejected']\n"
     ]
    }
   ],
   "source": [
    "print(y['loan_status'].unique())"
   ]
  },
  {
   "cell_type": "markdown",
   "id": "6e0217b1-ad16-4d77-95a5-b1232e916184",
   "metadata": {},
   "source": [
    "## To ignore Warnings "
   ]
  },
  {
   "cell_type": "code",
   "execution_count": 12,
   "id": "b95d9916-ce5a-4bb4-8881-56ed89efcfeb",
   "metadata": {},
   "outputs": [],
   "source": [
    "import warnings\n",
    "warnings.filterwarnings(\"ignore\")"
   ]
  },
  {
   "cell_type": "markdown",
   "id": "d635c8c3-e71d-4de6-a0f1-41cc568be5ce",
   "metadata": {},
   "source": [
    "## Label Encoding"
   ]
  },
  {
   "cell_type": "code",
   "execution_count": 13,
   "id": "b074fdd2-7801-4dc6-a40a-ccd4f12475ee",
   "metadata": {},
   "outputs": [],
   "source": [
    "from sklearn.preprocessing import LabelEncoder"
   ]
  },
  {
   "cell_type": "code",
   "execution_count": 14,
   "id": "4aef156c-5314-470b-8177-77874e9ccb84",
   "metadata": {},
   "outputs": [],
   "source": [
    "le=LabelEncoder()"
   ]
  },
  {
   "cell_type": "markdown",
   "id": "fc6c7437-9bd0-4263-aec7-c4a61bd0c50d",
   "metadata": {},
   "source": [
    "### for x:"
   ]
  },
  {
   "cell_type": "code",
   "execution_count": 15,
   "id": "1a537194-cc6b-4c73-8033-d1cb36c7fa24",
   "metadata": {},
   "outputs": [],
   "source": [
    "ed=le.fit_transform(x.education)\n",
    "x.drop([\"education\"],axis=1,inplace=True)\n",
    "x[\"education\"]=ed"
   ]
  },
  {
   "cell_type": "code",
   "execution_count": 16,
   "id": "c8960ebc-6e5f-4af7-881d-3e5f4f74a5f2",
   "metadata": {},
   "outputs": [
    {
     "data": {
      "text/plain": [
       "array([0, 1])"
      ]
     },
     "execution_count": 16,
     "metadata": {},
     "output_type": "execute_result"
    }
   ],
   "source": [
    "x[\"education\"].unique()"
   ]
  },
  {
   "cell_type": "code",
   "execution_count": 17,
   "id": "66402f0a-39a9-47b5-8b72-ea1e9617274b",
   "metadata": {},
   "outputs": [],
   "source": [
    "se=le.fit_transform(x.self_employed)\n",
    "x.drop([\"self_employed\"],axis=1,inplace=True)\n",
    "x[\"self_employed\"]=se"
   ]
  },
  {
   "cell_type": "code",
   "execution_count": 18,
   "id": "8cb3fed4-bade-436c-8b1e-de41c9d656c4",
   "metadata": {},
   "outputs": [
    {
     "data": {
      "text/plain": [
       "array([0, 1])"
      ]
     },
     "execution_count": 18,
     "metadata": {},
     "output_type": "execute_result"
    }
   ],
   "source": [
    "x[\"self_employed\"].unique()"
   ]
  },
  {
   "cell_type": "markdown",
   "id": "a6c65ca4-5200-4326-a952-e4c582d1ad66",
   "metadata": {},
   "source": [
    "### for y:"
   ]
  },
  {
   "cell_type": "code",
   "execution_count": 19,
   "id": "6c0f3ff5-879a-4a5d-bb37-80444af7258b",
   "metadata": {},
   "outputs": [],
   "source": [
    "ls=le.fit_transform(y.loan_status)\n",
    "y.drop([\"loan_status\"],axis=1,inplace=True)\n",
    "y[\"loan_status\"]=ls"
   ]
  },
  {
   "cell_type": "code",
   "execution_count": 20,
   "id": "3ef5e5df-faab-4c6b-b85b-fc328d8738f3",
   "metadata": {},
   "outputs": [
    {
     "data": {
      "text/plain": [
       "array([0, 1])"
      ]
     },
     "execution_count": 20,
     "metadata": {},
     "output_type": "execute_result"
    }
   ],
   "source": [
    "y[\"loan_status\"].unique()"
   ]
  },
  {
   "cell_type": "markdown",
   "id": "9c552810-d9d7-417c-b871-b35ea0cee38f",
   "metadata": {},
   "source": [
    "## Splitting the dataset"
   ]
  },
  {
   "cell_type": "markdown",
   "id": "3a7b0941-1f0a-4f87-b8bf-0f71a0680f44",
   "metadata": {},
   "source": [
    "### 1.KNN"
   ]
  },
  {
   "cell_type": "code",
   "execution_count": 21,
   "id": "4c40704c-dbc8-422d-9936-2a1fe7bd8c1b",
   "metadata": {},
   "outputs": [],
   "source": [
    "from sklearn.model_selection import train_test_split\n",
    "from sklearn.neighbors import KNeighborsClassifier"
   ]
  },
  {
   "cell_type": "code",
   "execution_count": 22,
   "id": "da8a77a0-311f-4311-92f3-71b2b13ff35a",
   "metadata": {},
   "outputs": [],
   "source": [
    "train_x, test_x, train_y, test_y = train_test_split(x,y,test_size=0.1,random_state=0)"
   ]
  },
  {
   "cell_type": "code",
   "execution_count": 23,
   "id": "57e54a25-1147-45c8-b4fe-5cd8e6e98cd6",
   "metadata": {},
   "outputs": [
    {
     "data": {
      "text/plain": [
       "51.99063231850117"
      ]
     },
     "execution_count": 23,
     "metadata": {},
     "output_type": "execute_result"
    }
   ],
   "source": [
    "model1=KNeighborsClassifier(n_neighbors=1)\n",
    "model1.fit(train_x,train_y)\n",
    "accuracy=100*model1.score(test_x,test_y)\n",
    "accuracy"
   ]
  },
  {
   "cell_type": "code",
   "execution_count": 24,
   "id": "e9f2055e-2c37-4899-8267-d00420eff0ab",
   "metadata": {
    "scrolled": true
   },
   "outputs": [
    {
     "name": "stdout",
     "output_type": "stream",
     "text": [
      "k is 1 and 0.5199063231850117\n",
      "k is 2 and 0.6018735362997658\n",
      "k is 3 and 0.550351288056206\n",
      "k is 4 and 0.5807962529274004\n",
      "k is 5 and 0.5550351288056206\n",
      "k is 6 and 0.5807962529274004\n",
      "k is 7 and 0.5737704918032787\n",
      "k is 8 and 0.6088992974238876\n",
      "k is 9 and 0.5971896955503513\n",
      "k is 10 and 0.5901639344262295\n",
      "k is 11 and 0.5995316159250585\n",
      "k is 12 and 0.6042154566744731\n",
      "k is 13 and 0.5971896955503513\n",
      "k is 14 and 0.6135831381733021\n",
      "k is 15 and 0.5971896955503513\n",
      "k is 16 and 0.6159250585480094\n",
      "k is 17 and 0.6065573770491803\n",
      "k is 18 and 0.6112412177985949\n",
      "k is 19 and 0.6042154566744731\n",
      "k is 20 and 0.5925058548009368\n",
      "k is 21 and 0.6042154566744731\n",
      "k is 22 and 0.6065573770491803\n",
      "k is 23 and 0.5971896955503513\n",
      "k is 24 and 0.6042154566744731\n",
      "Done!!\n"
     ]
    }
   ],
   "source": [
    "for i in range(1,25):\n",
    "    model=KNeighborsClassifier(n_neighbors=i)\n",
    "    model.fit(train_x,train_y)\n",
    "    print(f\"k is {i} and {model.score(test_x,test_y)}\")\n",
    "print(\"Done!!\")"
   ]
  },
  {
   "cell_type": "code",
   "execution_count": null,
   "id": "ca039ae5-ffa2-4e20-8d9b-7bd1529aa32f",
   "metadata": {},
   "outputs": [],
   "source": []
  },
  {
   "cell_type": "markdown",
   "id": "45a541be-0e12-4b69-9c76-bbfb6dd42d76",
   "metadata": {},
   "source": [
    "### 2. SVM"
   ]
  },
  {
   "cell_type": "code",
   "execution_count": 25,
   "id": "94f890f3-5cc2-4ef7-93b6-907d53744658",
   "metadata": {},
   "outputs": [],
   "source": [
    "from sklearn.model_selection import train_test_split\n",
    "from sklearn.svm import SVC"
   ]
  },
  {
   "cell_type": "code",
   "execution_count": 26,
   "id": "5b392641-0e5e-4428-9f26-f785fe308c54",
   "metadata": {},
   "outputs": [],
   "source": [
    "train_x, test_x, train_y, test_y = train_test_split(x,y,test_size=0.1,random_state=1)"
   ]
  },
  {
   "cell_type": "code",
   "execution_count": 27,
   "id": "e83f2f21-feff-4611-8385-c5fccbda82e1",
   "metadata": {},
   "outputs": [
    {
     "data": {
      "text/plain": [
       "60.421545667447305"
      ]
     },
     "execution_count": 27,
     "metadata": {},
     "output_type": "execute_result"
    }
   ],
   "source": [
    "model2=SVC()\n",
    "model2.fit(train_x,train_y)\n",
    "accuracy=100*model2.score(test_x,test_y)\n",
    "accuracy"
   ]
  },
  {
   "cell_type": "code",
   "execution_count": null,
   "id": "49364a3e-dfb1-4e2f-bb54-127fc03fe06d",
   "metadata": {},
   "outputs": [],
   "source": []
  },
  {
   "cell_type": "markdown",
   "id": "88926bfc-3906-4bec-8b25-a55d57469662",
   "metadata": {},
   "source": [
    "### 3. Decision tree"
   ]
  },
  {
   "cell_type": "code",
   "execution_count": 28,
   "id": "04b4c258-ff6c-420e-af16-96e5badfa61c",
   "metadata": {},
   "outputs": [],
   "source": [
    "from sklearn.tree import DecisionTreeClassifier\n",
    "from sklearn.model_selection import train_test_split"
   ]
  },
  {
   "cell_type": "code",
   "execution_count": 29,
   "id": "6d4c9b42-fe2c-4b23-aabc-c53e3905e56f",
   "metadata": {},
   "outputs": [],
   "source": [
    "train_x, test_x, train_y, test_y = train_test_split(x,y,test_size=0.23,random_state=1)"
   ]
  },
  {
   "cell_type": "code",
   "execution_count": 30,
   "id": "8e51ae6c-4afe-4a7f-aed5-b65c80469ab1",
   "metadata": {},
   "outputs": [
    {
     "data": {
      "text/plain": [
       "98.4725050916497"
      ]
     },
     "execution_count": 30,
     "metadata": {},
     "output_type": "execute_result"
    }
   ],
   "source": [
    "model3=DecisionTreeClassifier()\n",
    "model3.fit(train_x,train_y)\n",
    "accuracy=100*model3.score(test_x,test_y)\n",
    "accuracy"
   ]
  },
  {
   "cell_type": "code",
   "execution_count": null,
   "id": "b0ed413f-5824-4083-9bdc-91a3028ba8be",
   "metadata": {},
   "outputs": [],
   "source": []
  },
  {
   "cell_type": "markdown",
   "id": "6c09241a-24a8-4b56-9874-c2a4dd09e408",
   "metadata": {},
   "source": [
    "#### Prediction"
   ]
  },
  {
   "cell_type": "code",
   "execution_count": 31,
   "id": "e54f9654-ee8c-4d55-98d9-a46894d05ffc",
   "metadata": {},
   "outputs": [
    {
     "name": "stdout",
     "output_type": "stream",
     "text": [
      "NO.of dependents: 3\n",
      "Enter 0:Graduate, 1:Not Graduate 1\n",
      "Enter Self employed:--0:No , 1:Yes 1\n",
      "Enter Annual Income: 0\n",
      "Enter Loan Amo: 500000\n",
      "Enter Loan term: 3\n",
      "Enter Cibil Score: 900\n",
      "Enter Residential Assests value: 50000\n",
      "Enter Commercial Assests value: 0\n",
      "Enter Luxury Assests value: 0\n",
      "Enter Bank Assests value: 50000\n"
     ]
    }
   ],
   "source": [
    "no_of_dependents=int(input(\"NO.of dependents:\"))\n",
    "education=int(input(\"Enter 0:Graduate, 1:Not Graduate\"))\n",
    "self_employed=int(input(\"Enter Self employed:--0:No , 1:Yes\"))\n",
    "income_annum=int(input(\"Enter Annual Income:\"))\n",
    "loan_amount=int(input(\"Enter Loan Amo:\"))\n",
    "loan_term=int(input(\"Enter Loan term:\"))\n",
    "cibil_score=int(input(\"Enter Cibil Score:\"))\n",
    "residential_assets_value=int(input(\"Enter Residential Assests value:\"))\n",
    "commercial_assets_value=int(input(\"Enter Commercial Assests value:\"))\n",
    "luxury_assets_value=int(input(\"Enter Luxury Assests value:\"))\n",
    "bank_asset_value=int(input(\"Enter Bank Assests value:\"))"
   ]
  },
  {
   "cell_type": "code",
   "execution_count": 32,
   "id": "3425bb17-30f1-40cb-b82c-a4093c1c7f2b",
   "metadata": {},
   "outputs": [],
   "source": [
    "t=[no_of_dependents,education,self_employed,income_annum,loan_amount,loan_term,cibil_score,residential_assets_value,commercial_assets_value,luxury_assets_value,bank_asset_value]"
   ]
  },
  {
   "cell_type": "code",
   "execution_count": 33,
   "id": "17e0954c-75a8-4fb6-bd22-53dc588d9e55",
   "metadata": {},
   "outputs": [
    {
     "name": "stdout",
     "output_type": "stream",
     "text": [
      "Approved\n"
     ]
    }
   ],
   "source": [
    "if model3.predict([t])[0]==0:\n",
    "    print(\"Approved\")\n",
    "else:\n",
    "    print(\"Rejected\")"
   ]
  },
  {
   "cell_type": "markdown",
   "id": "677bb7a3-f06f-4e83-8a84-539a992e8069",
   "metadata": {},
   "source": [
    "#### Decision tree is performing good!! So Let's save it"
   ]
  },
  {
   "cell_type": "code",
   "execution_count": 34,
   "id": "c38576f2-14d8-41e5-b448-cddb6723605b",
   "metadata": {},
   "outputs": [],
   "source": [
    "import pickle\n",
    "pickle.dump(model3,open(\"loan.pkl\",\"wb\"))"
   ]
  }
 ],
 "metadata": {
  "kernelspec": {
   "display_name": "Python 3 (ipykernel)",
   "language": "python",
   "name": "python3"
  },
  "language_info": {
   "codemirror_mode": {
    "name": "ipython",
    "version": 3
   },
   "file_extension": ".py",
   "mimetype": "text/x-python",
   "name": "python",
   "nbconvert_exporter": "python",
   "pygments_lexer": "ipython3",
   "version": "3.10.11"
  }
 },
 "nbformat": 4,
 "nbformat_minor": 5
}
